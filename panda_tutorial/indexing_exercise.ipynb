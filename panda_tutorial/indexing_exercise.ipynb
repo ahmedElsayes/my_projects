{
 "cells": [
  {
   "cell_type": "code",
   "execution_count": 1,
   "metadata": {},
   "outputs": [],
   "source": [
    "import numpy as np"
   ]
  },
  {
   "cell_type": "code",
   "execution_count": 137,
   "metadata": {},
   "outputs": [
    {
     "name": "stdout",
     "output_type": "stream",
     "text": [
      "[[3, 5, 9], [1, 7, 3], [20, 30, 40]]\n",
      "[0, 1, 2, 3, 4, 5, 6, 7, 8, 9]\n"
     ]
    }
   ],
   "source": [
    "XX = [[3,5,9],[1,7,3],[20,30,40]]\n",
    "xy = [*range(0,10,1)]\n",
    "print(XX)\n",
    "print(xy)"
   ]
  },
  {
   "cell_type": "code",
   "execution_count": 141,
   "metadata": {},
   "outputs": [
    {
     "name": "stdout",
     "output_type": "stream",
     "text": [
      "\\... 7 \\... [[3, 5, 9], [1, 7, 3], [20, 30, 40]] \\... [2, 3, 5] \\... [0, 1, 2, 3, 4] \\... [0, 2, 4, 6, 8] \\... [5, 6, 7, 8, 9]\n"
     ]
    }
   ],
   "source": [
    "ex1 = XX[1][1]\n",
    "ex6 = XX[:][::1]\n",
    "ex2 = [xy[2],xy[3],xy[5]]\n",
    "ex3 = xy[:5:]\n",
    "ex4 = xy[::2]\n",
    "ex5 = xy[5::]\n",
    "print('\\...', ex1,'\\...', ex6, '\\...', ex2,'\\...', ex3, '\\...', ex4, '\\...', ex5)"
   ]
  },
  {
   "cell_type": "code",
   "execution_count": 8,
   "metadata": {},
   "outputs": [
    {
     "data": {
      "text/plain": [
       "[20, 30, 40]"
      ]
     },
     "execution_count": 8,
     "metadata": {},
     "output_type": "execute_result"
    }
   ],
   "source": [
    "XX[:][2]"
   ]
  },
  {
   "cell_type": "code",
   "execution_count": 56,
   "metadata": {},
   "outputs": [
    {
     "name": "stdout",
     "output_type": "stream",
     "text": [
      "[[ 3  5  9]\n",
      " [ 1  7  3]\n",
      " [20 30 40]] \n",
      " \n",
      " [[5 9]\n",
      " [7 3]]\n"
     ]
    }
   ],
   "source": [
    "X = np.array([[3,5,9],[1,7,3],[20,30,40]])\n",
    "ex8 = X[0:2,1:3]\n",
    "print(X, '\\n', '\\n', ex8)\n"
   ]
  },
  {
   "cell_type": "code",
   "execution_count": 9,
   "metadata": {},
   "outputs": [
    {
     "data": {
      "text/plain": [
       "array([0, 1, 2, 3, 4, 5, 6, 7, 8, 9])"
      ]
     },
     "execution_count": 9,
     "metadata": {},
     "output_type": "execute_result"
    }
   ],
   "source": [
    "Y = np.arange(10)\n",
    "Y"
   ]
  },
  {
   "cell_type": "code",
   "execution_count": 90,
   "metadata": {
    "scrolled": true
   },
   "outputs": [
    {
     "ename": "AttributeError",
     "evalue": "'int' object has no attribute 'dtype'",
     "output_type": "error",
     "traceback": [
      "\u001b[1;31m---------------------------------------------------------------------------\u001b[0m",
      "\u001b[1;31mAttributeError\u001b[0m                            Traceback (most recent call last)",
      "\u001b[1;32m<ipython-input-90-efd6860b15d6>\u001b[0m in \u001b[0;36m<module>\u001b[1;34m\u001b[0m\n\u001b[0;32m      4\u001b[0m \u001b[0mYY1\u001b[0m \u001b[1;33m=\u001b[0m \u001b[0mYY\u001b[0m\u001b[1;33m.\u001b[0m\u001b[0mreshape\u001b[0m\u001b[1;33m(\u001b[0m\u001b[1;36m2\u001b[0m\u001b[1;33m,\u001b[0m \u001b[1;36m4\u001b[0m\u001b[1;33m)\u001b[0m\u001b[1;33m\u001b[0m\u001b[0m\n\u001b[0;32m      5\u001b[0m \u001b[0msiz1\u001b[0m \u001b[1;33m=\u001b[0m \u001b[0mYY1\u001b[0m\u001b[1;33m.\u001b[0m\u001b[0msize\u001b[0m\u001b[1;33m\u001b[0m\u001b[0m\n\u001b[1;32m----> 6\u001b[1;33m \u001b[0mprint\u001b[0m\u001b[1;33m(\u001b[0m\u001b[0mYY\u001b[0m\u001b[1;33m,\u001b[0m \u001b[1;34m'\\n'\u001b[0m\u001b[1;33m,\u001b[0m \u001b[0msiz\u001b[0m\u001b[1;33m.\u001b[0m\u001b[0mdtype\u001b[0m\u001b[1;33m,\u001b[0m \u001b[1;34m'\\n'\u001b[0m\u001b[1;33m,\u001b[0m \u001b[0mYY1\u001b[0m\u001b[1;33m,\u001b[0m \u001b[1;34m'\\n'\u001b[0m\u001b[1;33m,\u001b[0m \u001b[0msiz1\u001b[0m\u001b[1;33m,\u001b[0m \u001b[1;34m'\\n'\u001b[0m\u001b[1;33m)\u001b[0m\u001b[1;33m\u001b[0m\u001b[0m\n\u001b[0m\u001b[0;32m      7\u001b[0m \u001b[1;31m## to learn about some of the possible operations on the matices using numpy\u001b[0m\u001b[1;33m\u001b[0m\u001b[1;33m\u001b[0m\u001b[0m\n\u001b[0;32m      8\u001b[0m \u001b[0me1\u001b[0m \u001b[1;33m=\u001b[0m \u001b[0mlen\u001b[0m\u001b[1;33m(\u001b[0m\u001b[0mYY\u001b[0m\u001b[1;33m)\u001b[0m\u001b[1;33m\u001b[0m\u001b[0m\n",
      "\u001b[1;31mAttributeError\u001b[0m: 'int' object has no attribute 'dtype'"
     ]
    }
   ],
   "source": [
    "YY = np.arange(-4,11,2, dtype=np.int8)   # (start, end, step) and reshape to change matix dimensions\n",
    "siz = YY.size\n",
    "YY1 = YY.reshape(2, 4)\n",
    "siz1 = YY1.size\n",
    "print(YY, '\\n', siz, '\\n', YY1, '\\n', siz1, '\\n')\n",
    "## to learn about some of the possible operations on the matices using numpy\n",
    "e1 = len(YY)\n",
    "e2 = YY1.shape\n",
    "e3 = YY.shape\n",
    "e4 = np.amax(YY1)\n",
    "e5 = np.argmax(YY1)\n",
    "e6 = np.average(YY1)\n",
    "e7 = np.amin(YY1)\n",
    "e8 = np.argmin(YY1)\n",
    "e9 = abs(YY)\n",
    "e10 = len(YY1)\n",
    "print(e1, '\\n', e2, '\\n', e3, '\\n', e4, '\\n', e5, '\\n', e6, '\\n', e7, '\\n', e8, '\\n', e9, '\\n', e10)"
   ]
  },
  {
   "cell_type": "code",
   "execution_count": 68,
   "metadata": {},
   "outputs": [
    {
     "data": {
      "text/plain": [
       "array([[[0., 0., 0., 0.],\n",
       "        [0., 0., 0., 0.],\n",
       "        [0., 0., 0., 0.],\n",
       "        [0., 0., 0., 0.]],\n",
       "\n",
       "       [[0., 0., 0., 0.],\n",
       "        [0., 0., 0., 0.],\n",
       "        [0., 0., 0., 0.],\n",
       "        [0., 0., 0., 0.]],\n",
       "\n",
       "       [[0., 0., 0., 0.],\n",
       "        [0., 0., 0., 0.],\n",
       "        [0., 0., 0., 0.],\n",
       "        [0., 0., 0., 0.]]], dtype=float32)"
      ]
     },
     "execution_count": 68,
     "metadata": {},
     "output_type": "execute_result"
    }
   ],
   "source": [
    "ff = np.zeros((3,4,4), np.float32)\n",
    "ff"
   ]
  },
  {
   "cell_type": "code",
   "execution_count": 16,
   "metadata": {},
   "outputs": [
    {
     "data": {
      "text/plain": [
       "array([[[2., 2., 2., 2.],\n",
       "        [2., 2., 2., 2.],\n",
       "        [2., 2., 2., 2.],\n",
       "        [2., 2., 2., 2.]],\n",
       "\n",
       "       [[0., 0., 0., 0.],\n",
       "        [0., 0., 0., 0.],\n",
       "        [0., 0., 0., 0.],\n",
       "        [0., 0., 0., 0.]],\n",
       "\n",
       "       [[2., 2., 2., 2.],\n",
       "        [2., 2., 2., 2.],\n",
       "        [2., 2., 2., 2.],\n",
       "        [2., 2., 2., 2.]]], dtype=float32)"
      ]
     },
     "execution_count": 16,
     "metadata": {},
     "output_type": "execute_result"
    }
   ],
   "source": [
    "ff[0:3:2,:,:] = 2\n",
    "ff"
   ]
  },
  {
   "cell_type": "code",
   "execution_count": 136,
   "metadata": {},
   "outputs": [
    {
     "name": "stdout",
     "output_type": "stream",
     "text": [
      "[[4 3 2 7]\n",
      " [3 7 6 4]\n",
      " [5 5 7 3]] \n",
      "\n",
      " [[6 3 5]\n",
      " [4 7 6]\n",
      " [8 7 6]\n",
      " [7 4 4]] \n",
      "\n",
      " **1- [[101  75  78]\n",
      " [122 116 109]\n",
      " [127 111 109]] \n",
      " **2-  [[10  6  7 11]\n",
      " [10 13 14 11]\n",
      " [11 12 11  7]] \n",
      " **3-  [[-2  0 -3  3]\n",
      " [-4  1 -2 -3]\n",
      " [-1 -2  3 -1]] \n",
      " **4-  [[24  9 10 28]\n",
      " [21 42 48 28]\n",
      " [30 35 28 12]] \n",
      " **5-  [[6 4 8 7]\n",
      " [3 7 7 4]\n",
      " [5 6 6 4]] \n",
      " **6-  [[6 3 5]\n",
      " [4 7 6]\n",
      " [8 7 6]] \n",
      " **7-  [25 21 21]\n"
     ]
    }
   ],
   "source": [
    "# example on array using numpy\n",
    "d = np.random.randint(2, high=8, size=(3,4)) # Generate a random numbers (lowest value, highest, size)\n",
    "dd = np.random.randint(3, high=9, size=(4,3))\n",
    "# matices math on numpy\n",
    "d1 = np.dot(d,dd) # matrix multiblication\n",
    "d2 = np.add(d, dd.reshape(3,4)) # elementwise addition\n",
    "d3 = np.subtract(d, dd.reshape(3,4)) # elementwise subtraction\n",
    "# d4 = np.divide(d, dd.reshape(3,4))\n",
    "d4 = np.multiply(d, dd.reshape(3,4))  # elementwise multiblication\n",
    "# d5 = np.transpose(dd)\n",
    "d5 = dd.T # transpose with classic modules\n",
    "d6 = np.resize(dd, (3,3)) # matice resizing\n",
    "d7 = np.sum(dd, axis=0) # summation of matix elements in column direction\n",
    "# d7 = np.sum(dd, axis=1) # summation of matix elements in row direction\n",
    "# d7 = np.linalg.inv(d6) # inverse of the matix\n",
    "print(d, '\\n\\n', dd,'\\n\\n **1-', d1,'\\n **2- ', d2,'\\n **3- ', d3,'\\n **4- ', d4,'\\n **5- ', d5, '\\n **6- ', d6, '\\n **7- ', d7)"
   ]
  },
  {
   "cell_type": "code",
   "execution_count": null,
   "metadata": {},
   "outputs": [],
   "source": []
  }
 ],
 "metadata": {
  "kernelspec": {
   "display_name": "Python 3.6.4 32-bit ('.venv': venv)",
   "language": "python",
   "name": "python36432bitvenvvenve47b9ececebc4982b36ab866990ceecf"
  },
  "language_info": {
   "codemirror_mode": {
    "name": "ipython",
    "version": 3
   },
   "file_extension": ".py",
   "mimetype": "text/x-python",
   "name": "python",
   "nbconvert_exporter": "python",
   "pygments_lexer": "ipython3",
   "version": "3.6.4"
  }
 },
 "nbformat": 4,
 "nbformat_minor": 4
}
