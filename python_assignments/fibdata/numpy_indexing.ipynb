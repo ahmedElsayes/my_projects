{
 "cells": [
  {
   "cell_type": "code",
   "execution_count": 1,
   "metadata": {},
   "outputs": [],
   "source": [
    "import numpy as np"
   ]
  },
  {
   "cell_type": "code",
   "execution_count": 2,
   "metadata": {},
   "outputs": [
    {
     "name": "stdout",
     "output_type": "stream",
     "text": [
      "[[3, 5, 9], [5, 8, 7], [15, 12, 36]] \n",
      "\n",
      " [0, 1, 2, 3, 4, 5, 6, 7, 8, 9, 10]\n"
     ]
    }
   ],
   "source": [
    "X = [[3,5,9], [5,8,7], [15,12,36]]\n",
    "Y = [*range(0,11,1)]\n",
    "print(X,'\\n\\n', Y)"
   ]
  },
  {
   "cell_type": "code",
   "execution_count": 3,
   "metadata": {},
   "outputs": [
    {
     "name": "stdout",
     "output_type": "stream",
     "text": [
      "9 \n",
      " [5, 8, 7]\n"
     ]
    }
   ],
   "source": [
    "ex1 = X[0][2]\n",
    "ex2 = X[1][:]\n",
    "print(ex1,'\\n', ex2)"
   ]
  },
  {
   "cell_type": "code",
   "execution_count": 4,
   "metadata": {},
   "outputs": [
    {
     "data": {
      "text/plain": [
       "[3, 4, 5, 6, 7, 8, 9, 10]"
      ]
     },
     "execution_count": 4,
     "metadata": {},
     "output_type": "execute_result"
    }
   ],
   "source": [
    "ex4 = Y[3::]\n",
    "ex4"
   ]
  },
  {
   "cell_type": "code",
   "execution_count": 5,
   "metadata": {},
   "outputs": [
    {
     "data": {
      "text/plain": [
       "array([[ 3,  5,  9],\n",
       "       [ 5,  8,  7],\n",
       "       [10, 20, 30]])"
      ]
     },
     "execution_count": 5,
     "metadata": {},
     "output_type": "execute_result"
    }
   ],
   "source": [
    "X = np.array([[3,5,9], [5,8,7], [10,20,30]])\n",
    "X"
   ]
  },
  {
   "cell_type": "code",
   "execution_count": 6,
   "metadata": {},
   "outputs": [
    {
     "data": {
      "text/plain": [
       "array([[3, 5, 9],\n",
       "       [5, 8, 7]])"
      ]
     },
     "execution_count": 6,
     "metadata": {},
     "output_type": "execute_result"
    }
   ],
   "source": [
    "ex5 = X[0:2, :]\n",
    "ex5"
   ]
  },
  {
   "cell_type": "code",
   "execution_count": 7,
   "metadata": {},
   "outputs": [
    {
     "name": "stdout",
     "output_type": "stream",
     "text": [
      "[-4 -2  0  2  4  6  8 10] \n",
      " 8 \n",
      " [[-4 -2  0  2]\n",
      " [ 4  6  8 10]] \n",
      " 8\n"
     ]
    }
   ],
   "source": [
    "Y = np.arange(-4, 11, 2, dtype=np.int8)\n",
    "YY = len(Y)\n",
    "siz = Y.size\n",
    "Y1 = Y.reshape(2,4)\n",
    "siz1 = Y1.size\n",
    "print(Y,'\\n', siz,'\\n', Y1,'\\n',siz1)"
   ]
  },
  {
   "cell_type": "code",
   "execution_count": 8,
   "metadata": {},
   "outputs": [
    {
     "name": "stdout",
     "output_type": "stream",
     "text": [
      "3.0 \n",
      " -4 \n",
      " [ 4  2  0  2  4  6  8 10]\n"
     ]
    }
   ],
   "source": [
    "e1 =Y1.shape\n",
    "e2 = np.amax(Y1)\n",
    "e3 = np.argmax(Y1)\n",
    "e4 = np.average(Y1)\n",
    "e5 = np.amin(Y1)\n",
    "e6 = np.argmin(Y1)\n",
    "e8 = np.abs(Y)\n",
    "print(e4,'\\n',e5,'\\n',e8)"
   ]
  },
  {
   "cell_type": "code",
   "execution_count": 14,
   "metadata": {},
   "outputs": [
    {
     "data": {
      "text/plain": [
       "array([[[0, 0, 0, 0],\n",
       "        [0, 0, 0, 0],\n",
       "        [0, 0, 0, 0],\n",
       "        [0, 0, 0, 0]],\n",
       "\n",
       "       [[0, 0, 0, 0],\n",
       "        [0, 0, 0, 0],\n",
       "        [0, 0, 0, 0],\n",
       "        [0, 0, 0, 0]],\n",
       "\n",
       "       [[0, 0, 0, 0],\n",
       "        [0, 0, 0, 0],\n",
       "        [0, 0, 0, 0],\n",
       "        [0, 0, 0, 0]]], dtype=int8)"
      ]
     },
     "execution_count": 14,
     "metadata": {},
     "output_type": "execute_result"
    }
   ],
   "source": [
    "F = np.zeros((3,4,4), np.int8)\n",
    "F"
   ]
  },
  {
   "cell_type": "code",
   "execution_count": 17,
   "metadata": {},
   "outputs": [
    {
     "data": {
      "text/plain": [
       "array([[[ 2,  2,  2,  2],\n",
       "        [10, 10, 10, 10],\n",
       "        [ 2,  2,  2,  2],\n",
       "        [ 2,  2,  2,  2]],\n",
       "\n",
       "       [[ 0,  0,  0,  0],\n",
       "        [ 0,  0,  0,  0],\n",
       "        [ 0,  0,  0,  0],\n",
       "        [ 0,  0,  0,  0]],\n",
       "\n",
       "       [[ 5,  5,  5,  5],\n",
       "        [ 5,  5,  5,  5],\n",
       "        [ 5,  5,  5,  5],\n",
       "        [ 5,  5,  5,  5]]], dtype=int8)"
      ]
     },
     "execution_count": 17,
     "metadata": {},
     "output_type": "execute_result"
    }
   ],
   "source": [
    "F[0,1,:] = 10\n",
    "F"
   ]
  },
  {
   "cell_type": "code",
   "execution_count": 18,
   "metadata": {},
   "outputs": [
    {
     "name": "stdout",
     "output_type": "stream",
     "text": [
      "[[5 7 4 5]\n",
      " [6 2 4 4]\n",
      " [3 4 7 4]] \n",
      "\n",
      " [[7 7 4]\n",
      " [5 3 5]\n",
      " [4 6 7]\n",
      " [7 6 7]]\n"
     ]
    }
   ],
   "source": [
    "d = np.random.randint(2, high=8, size=(3,4))\n",
    "dd = np.random.randint(3, high=9, size=(4,3))\n",
    "print(d,'\\n\\n',dd)"
   ]
  },
  {
   "cell_type": "code",
   "execution_count": 30,
   "metadata": {},
   "outputs": [
    {
     "name": "stdout",
     "output_type": "stream",
     "text": [
      "[[7 7 4]\n",
      " [5 3 5]\n",
      " [4 6 7]\n",
      " [7 6 7]\n",
      " [7 7 4]\n",
      " [5 3 5]]\n"
     ]
    }
   ],
   "source": [
    "d1 = np.dot(d,dd)\n",
    "d2 = np.add(d, dd.T)\n",
    "d3 = np.subtract(d, dd.T)\n",
    "d4 = np.multiply(d, dd.T)\n",
    "d5 = dd.T\n",
    "d6 = np.sum(d, axis=1)\n",
    "d7 = np.resize(dd, (6,3))\n",
    "print(d7)"
   ]
  },
  {
   "cell_type": "code",
   "execution_count": null,
   "metadata": {},
   "outputs": [],
   "source": []
  }
 ],
 "metadata": {
  "kernelspec": {
   "display_name": "Python 3.6.4 32-bit ('.venv': venv)",
   "language": "python",
   "name": "python36432bitvenvvenve47b9ececebc4982b36ab866990ceecf"
  },
  "language_info": {
   "codemirror_mode": {
    "name": "ipython",
    "version": 3
   },
   "file_extension": ".py",
   "mimetype": "text/x-python",
   "name": "python",
   "nbconvert_exporter": "python",
   "pygments_lexer": "ipython3",
   "version": "3.6.4"
  }
 },
 "nbformat": 4,
 "nbformat_minor": 4
}
